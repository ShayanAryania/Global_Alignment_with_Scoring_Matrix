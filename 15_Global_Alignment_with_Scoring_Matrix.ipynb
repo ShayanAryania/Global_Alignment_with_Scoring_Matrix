{
 "cells": [
  {
   "cell_type": "code",
   "execution_count": 9,
   "metadata": {},
   "outputs": [],
   "source": [
    "import os\n",
    "import sys\n",
    "\n",
    "dir = \"/Users/shayanaryania/Desktop/University/1/Code/Rosalind-master/scripts/\"\n",
    "parent_dir = os.path.dirname(dir)\n",
    "sys.path.append(parent_dir)\n",
    "\n",
    "from scoring_matrices import BLOSUM62\n",
    "from FASTA import ReadFASTA"
   ]
  },
  {
   "cell_type": "code",
   "execution_count": 1,
   "metadata": {},
   "outputs": [],
   "source": [
    "class BLOSUM62(object):\n",
    "    \"\"\"The BLOSUM62 scoring matrix class.\"\"\"\n",
    "\n",
    "    def __init__(self):\n",
    "        \"\"\"Initialize the scoring matrix.\"\"\"\n",
    "        with open(os.path.join(os.path.dirname(__file__), 'data/BLOSUM62.txt')) as input_data:\n",
    "            items = [line.strip().split() for line in input_data.readlines()]\n",
    "            self.scoring_matrix = {(item[0], item[1]):int(item[2]) for item in items}\n",
    "\n",
    "    def __getitem__(self, pair):\n",
    "        \"\"\"Returns the score of the given pair of protein.\"\"\"\n",
    "        return self.scoring_matrix[pair[0], pair[1]]\n",
    "\n",
    "\n",
    "class PAM250(object):\n",
    "    \"\"\"The PAM250 scoring matrix class.\"\"\"\n",
    "\n",
    "    def __init__(self):\n",
    "        \"\"\"Initialize the scoring matrix.\"\"\"\n",
    "        with open(os.path.join(os.path.dirname(__file__), 'data/PAM250.txt')) as input_data:\n",
    "            items = [line.strip().split() for line in input_data.readlines()]\n",
    "            self.scoring_matrix = {(item[0], item[1]):int(item[2]) for item in items}\n",
    "\n",
    "    def __getitem__(self, pair):\n",
    "        \"\"\"Returns the score of the given pair of protein.\"\"\"\n",
    "        return self.scoring_matrix[pair[0], pair[1]]"
   ]
  },
  {
   "cell_type": "code",
   "execution_count": 2,
   "metadata": {},
   "outputs": [],
   "source": [
    "def ReadFASTA(data_location):\n",
    "        '''Determines the data type of the FASTA format data and passes the appropriate information to be parsed.'''\n",
    "        \n",
    "        # If given a list, return fasta information from all items in the list.\n",
    "        if type(data_location) == list:\n",
    "                fasta_list =[]\n",
    "                for location in data_location:\n",
    "                        fasta_list+=ReadFASTA(location)\n",
    "                return fasta_list\n",
    "\n",
    "\n",
    "        # Check for a text file, return fasta info from the text file.\n",
    "        if data_location[-4:] == '.txt':\n",
    "                with open(data_location) as f:\n",
    "                        return ParseFASTA(f)\n",
    "        \n",
    "        # Check for a website, return fasta info from the website.\n",
    "        elif data_location[0:4] == 'http':\n",
    "                with contextlib.closing(urllib.urlopen(data_location)) as f:\n",
    "                        return ParseFASTA(f)\n",
    "\n",
    "\n",
    "def ParseFASTA(f):\n",
    "        '''Extracts the Sequence Name and Nucleotide/Peptide Sequence from the a FASTA format file or website.'''\n",
    "        fasta_list=[]\n",
    "        for line in f:\n",
    "\n",
    "                # If the line starts with '>' we've hit a new DNA strand, so append the old one and create the new one.\n",
    "                if line[0] == '>':\n",
    "                        \n",
    "                        current_dna = [line.lstrip('>').rstrip('\\n'),'']\n",
    "\n",
    "                        # Using try/except because intially there will be no current DNA strand to append.\n",
    "                        try:\n",
    "                                fasta_list.append(current_dna)\n",
    "                        except UnboundLocalError:\n",
    "                                pass\n",
    "\n",
    "                        #current_dna = [line.lstrip('>').rstrip('\\n'),'']\n",
    "\n",
    "                # Otherwise, append the current DNA line to the current DNA\n",
    "                else:\n",
    "                        current_dna[1] += line.rstrip('\\n')\n",
    "        \n",
    "        # Append the final DNA strand after reading all the lines.\n",
    "        fasta_list.append(current_dna)\n",
    "\n",
    "        return fasta_list"
   ]
  },
  {
   "cell_type": "code",
   "execution_count": 3,
   "metadata": {},
   "outputs": [],
   "source": [
    "def global_alignment_score(v, w, scoring_matrix, sigma):\n",
    "    '''Return the global alignment score of v and w subject to the given scoring matrix and indel penalty sigma.'''\n",
    "\n",
    "    # Initialize the scoring matrix.\n",
    "    S = [[0 for j in range(len(w)+1)] for i in range(len(v)+1)]\n",
    "\n",
    "    # Initialize the edges with the given penalties.\n",
    "    for i in range(1, len(v)+1):\n",
    "        S[i][0] = -i*sigma\n",
    "    for j in range(1, len(w)+1):\n",
    "        S[0][j] = -j*sigma\n",
    "\n",
    "    # Fill in the Score and Backtrack matrices.\n",
    "    for i in range(1, len(v)+1):\n",
    "        for j in range(1, len(w)+1):\n",
    "            scores = [S[i-1][j] - sigma, S[i][j-1] - sigma, S[i-1][j-1] + scoring_matrix[v[i-1], w[j-1]]]\n",
    "            S[i][j] = max(scores)\n",
    "\n",
    "    return S[len(v)][len(w)]"
   ]
  },
  {
   "cell_type": "code",
   "execution_count": 5,
   "metadata": {},
   "outputs": [
    {
     "ename": "ValueError",
     "evalue": "too many values to unpack (expected 2)",
     "output_type": "error",
     "traceback": [
      "\u001b[0;31m---------------------------------------------------------------------------\u001b[0m",
      "\u001b[0;31mValueError\u001b[0m                                Traceback (most recent call last)",
      "\u001b[1;32m/Users/shayanaryania/Desktop/University/Rosalind/15_Global_Alignment_with_Scoring_Matrix/15_Global_Alignment_with_Scoring_Matrix.ipynb Cell 5\u001b[0m line \u001b[0;36m4\n\u001b[1;32m      <a href='vscode-notebook-cell:/Users/shayanaryania/Desktop/University/Rosalind/15_Global_Alignment_with_Scoring_Matrix/15_Global_Alignment_with_Scoring_Matrix.ipynb#W4sZmlsZQ%3D%3D?line=0'>1</a>\u001b[0m \u001b[39mif\u001b[39;00m \u001b[39m__name__\u001b[39m \u001b[39m==\u001b[39m \u001b[39m'\u001b[39m\u001b[39m__main__\u001b[39m\u001b[39m'\u001b[39m:\n\u001b[1;32m      <a href='vscode-notebook-cell:/Users/shayanaryania/Desktop/University/Rosalind/15_Global_Alignment_with_Scoring_Matrix/15_Global_Alignment_with_Scoring_Matrix.ipynb#W4sZmlsZQ%3D%3D?line=1'>2</a>\u001b[0m \n\u001b[1;32m      <a href='vscode-notebook-cell:/Users/shayanaryania/Desktop/University/Rosalind/15_Global_Alignment_with_Scoring_Matrix/15_Global_Alignment_with_Scoring_Matrix.ipynb#W4sZmlsZQ%3D%3D?line=2'>3</a>\u001b[0m     \u001b[39m# Parse the two input protein strings.\u001b[39;00m\n\u001b[0;32m----> <a href='vscode-notebook-cell:/Users/shayanaryania/Desktop/University/Rosalind/15_Global_Alignment_with_Scoring_Matrix/15_Global_Alignment_with_Scoring_Matrix.ipynb#W4sZmlsZQ%3D%3D?line=3'>4</a>\u001b[0m     s, t \u001b[39m=\u001b[39m [fasta[\u001b[39m1\u001b[39m] \u001b[39mfor\u001b[39;00m fasta \u001b[39min\u001b[39;00m ReadFASTA(\u001b[39m'\u001b[39m\u001b[39m/Users/shayanaryania/Desktop/University/Rosalind/15_Global_Alignment_with_Scoring_Matrix/rosalind_glob.txt\u001b[39m\u001b[39m'\u001b[39m)]\n\u001b[1;32m      <a href='vscode-notebook-cell:/Users/shayanaryania/Desktop/University/Rosalind/15_Global_Alignment_with_Scoring_Matrix/15_Global_Alignment_with_Scoring_Matrix.ipynb#W4sZmlsZQ%3D%3D?line=5'>6</a>\u001b[0m     \u001b[39m# Get the alignment score.\u001b[39;00m\n\u001b[1;32m      <a href='vscode-notebook-cell:/Users/shayanaryania/Desktop/University/Rosalind/15_Global_Alignment_with_Scoring_Matrix/15_Global_Alignment_with_Scoring_Matrix.ipynb#W4sZmlsZQ%3D%3D?line=6'>7</a>\u001b[0m     score \u001b[39m=\u001b[39m \u001b[39mstr\u001b[39m(global_alignment_score(s, t, BLOSUM62(), \u001b[39m5\u001b[39m))\n",
      "\u001b[0;31mValueError\u001b[0m: too many values to unpack (expected 2)"
     ]
    }
   ],
   "source": [
    "if __name__ == '__main__':\n",
    "\n",
    "    # Parse the two input protein strings.\n",
    "    s, t = [fasta[1] for fasta in ReadFASTA('/Users/shayanaryania/Desktop/University/Rosalind/15_Global_Alignment_with_Scoring_Matrix/rosalind_glob.txt')]\n",
    "\n",
    "    # Get the alignment score.\n",
    "    score = str(global_alignment_score(s, t, BLOSUM62(), 5))\n",
    "\n",
    "    # Print and save the answer.\n",
    "    print (score)\n",
    "    with open('/Users/shayanaryania/Desktop/University/Rosalind/15_Global_Alignment_with_Scoring_Matrix/1.txt', 'w') as output_data:\n",
    "        output_data.write(score)"
   ]
  },
  {
   "cell_type": "code",
   "execution_count": null,
   "metadata": {},
   "outputs": [],
   "source": []
  }
 ],
 "metadata": {
  "kernelspec": {
   "display_name": "Python 3",
   "language": "python",
   "name": "python3"
  },
  "language_info": {
   "codemirror_mode": {
    "name": "ipython",
    "version": 3
   },
   "file_extension": ".py",
   "mimetype": "text/x-python",
   "name": "python",
   "nbconvert_exporter": "python",
   "pygments_lexer": "ipython3",
   "version": "3.11.4"
  }
 },
 "nbformat": 4,
 "nbformat_minor": 2
}
